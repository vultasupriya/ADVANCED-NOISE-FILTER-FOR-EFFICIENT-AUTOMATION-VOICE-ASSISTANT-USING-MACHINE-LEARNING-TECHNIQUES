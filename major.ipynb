{
 "cells": [
  {
   "cell_type": "markdown",
   "id": "70d89c57-059f-489a-889c-d44bc7d2eaff",
   "metadata": {},
   "source": [
    "# Import Prerequisites"
   ]
  },
  {
   "cell_type": "code",
   "execution_count": 1,
   "id": "bd05fbcd-b2e0-4a4c-a0f0-c76c47a10a04",
   "metadata": {},
   "outputs": [],
   "source": [
    "# import prerequisites\n",
    "import speech_recognition as sr\n",
    "from selenium_web import *\n",
    "from youtube import *\n",
    "from read_news import *\n",
    "import randfacts\n",
    "from tell_joke import *\n",
    "from weather import *\n",
    "import datetime\n",
    "import noisereduce as nr\n",
    "import numpy as np\n",
    "import matplotlib.pyplot as plt\n",
    "import wave"
   ]
  },
  {
   "cell_type": "code",
   "execution_count": 2,
   "id": "77b5a65f-22f8-49e8-aa18-58d5d503857c",
   "metadata": {},
   "outputs": [
    {
     "name": "stderr",
     "output_type": "stream",
     "text": [
      "playsound is relying on another python subprocess. Please use `pip install pygobject` if you want playsound to run more efficiently.\n"
     ]
    }
   ],
   "source": [
    "from gtts import gTTS\n",
    "import os\n",
    "from playsound import playsound\n",
    "\n",
    "# Function to convert text to speech\n",
    "def speak(text):\n",
    "    tts = gTTS(text=text, lang='en', slow=False)\n",
    "    tts.save(\"output.mp3\")\n",
    "    playsound(\"output.mp3\")"
   ]
  },
  {
   "cell_type": "code",
   "execution_count": 3,
   "id": "3817656d-5796-4ed5-a4db-bae99a222633",
   "metadata": {},
   "outputs": [],
   "source": [
    "# Function to return a greeting based on the time of day\n",
    "def wishme():\n",
    "    hour = int(datetime.datetime.now().hour)\n",
    "    if 0 <= hour < 12:\n",
    "        return \"Morning\"\n",
    "    elif 12 <= hour < 16:\n",
    "        return \"Afternoon\"\n",
    "    else:\n",
    "        return \"Evening\""
   ]
  },
  {
   "cell_type": "markdown",
   "id": "f481a30b-f156-48c0-a2b5-c4196f89b5d1",
   "metadata": {},
   "source": [
    "# Noise reduction and Speech recognition"
   ]
  },
  {
   "cell_type": "code",
   "execution_count": 4,
   "id": "0648b4d5-3e48-46a8-9223-be971d03fdfd",
   "metadata": {},
   "outputs": [],
   "source": [
    "def listen_command():\n",
    "    with sr.Microphone(sample_rate=16000) as source:\n",
    "        r = sr.Recognizer()\n",
    "        print(\"Listening...\")\n",
    "        \n",
    "        audio = r.listen(source)\n",
    "        \n",
    "        # Convert audio to numpy array for noise reduction\n",
    "        audio_data = np.frombuffer(audio.get_raw_data(), dtype=np.int16)\n",
    "        \n",
    "        # Save original audio\n",
    "        with wave.open(\"original_audio.wav\", \"wb\") as f:\n",
    "            f.setnchannels(1)\n",
    "            f.setsampwidth(2)  # 2 bytes per sample for int16\n",
    "            f.setframerate(16000)\n",
    "            f.writeframes(audio_data.tobytes())\n",
    "\n",
    "        # Apply noise reduction\n",
    "        reduced_noise_audio = nr.reduce_noise(y=audio_data, sr=16000)\n",
    "        \n",
    "        # Save noise-reduced audio\n",
    "        with wave.open(\"reduced_audio.wav\", \"wb\") as f:\n",
    "            f.setnchannels(1)\n",
    "            f.setsampwidth(2)\n",
    "            f.setframerate(16000)\n",
    "            f.writeframes(reduced_noise_audio.tobytes())\n",
    "        \n",
    "        # Convert reduced audio back to AudioData format for recognizer\n",
    "        reduced_audio_data = sr.AudioData(reduced_noise_audio.tobytes(), 16000, 2)\n",
    "\n",
    "        plot_waveforms(audio_data, reduced_noise_audio)\n",
    "        \n",
    "        # Try recognizing text from the original audio\n",
    "        try:\n",
    "            text_original = r.recognize_google(audio, language=\"en-US\")\n",
    "            # print(f\"Recognized Text (Original): {text_original}\")\n",
    "        except sr.UnknownValueError:\n",
    "            text_original = \"Could not recognize original audio\"\n",
    "            print(text_original)\n",
    "        \n",
    "        # Try recognizing text from the reduced audio\n",
    "        try:\n",
    "            text_reduced = r.recognize_google(reduced_audio_data, language=\"en-US\")\n",
    "            print(f\"Recognized Text (Reduced): {text_reduced}\")\n",
    "            return text_reduced.lower()\n",
    "        except sr.UnknownValueError:\n",
    "            text_reduced = \"Could not recognize reduced audio\"\n",
    "            print(text_reduced)\n",
    "            speak(text_reduced)\n",
    "            return None"
   ]
  },
  {
   "cell_type": "markdown",
   "id": "7af62207-824b-4c0e-8692-d14ac9d7ebb6",
   "metadata": {},
   "source": [
    "# Plot waves for original_audio and reduced_audio "
   ]
  },
  {
   "cell_type": "code",
   "execution_count": 5,
   "id": "d88ad9c7-b5bf-4e69-9f84-278192e6401f",
   "metadata": {},
   "outputs": [],
   "source": [
    "def plot_waveforms(original_audio_data, reduced_audio_data, sample_rate=16000):\n",
    "    # Create a time axis in seconds\n",
    "    time_axis_original = np.linspace(0, len(original_audio_data) / sample_rate, num=len(original_audio_data))\n",
    "    time_axis_reduced = np.linspace(0, len(reduced_audio_data) / sample_rate, num=len(reduced_audio_data))\n",
    "    \n",
    "    # Plot both waveforms\n",
    "    plt.figure(figsize=(15, 6))\n",
    "    \n",
    "    # Original audio waveform\n",
    "    plt.subplot(2, 1, 1)\n",
    "    plt.plot(time_axis_original, original_audio_data, color='blue')\n",
    "    plt.title(\"Original Audio Waveform\")\n",
    "    plt.xlabel(\"Time (seconds)\")\n",
    "    plt.ylabel(\"Amplitude\")\n",
    "    \n",
    "    # Noise-reduced audio waveform\n",
    "    plt.subplot(2, 1, 2)\n",
    "    plt.plot(time_axis_reduced, reduced_audio_data, color='green')\n",
    "    plt.title(\"Noise-Reduced Audio Waveform\")\n",
    "    plt.xlabel(\"Time (seconds)\")\n",
    "    plt.ylabel(\"Amplitude\")\n",
    "    \n",
    "    plt.tight_layout()\n",
    "    plt.show()\n",
    "import io\n",
    "# def plot_waveforms(original_audio_data, reduced_audio_data, sample_rate=16000):\n",
    "#     # Create a time axis in seconds\n",
    "#     time_axis_original = np.linspace(0, len(original_audio_data) / sample_rate, num=len(original_audio_data))\n",
    "#     time_axis_reduced = np.linspace(0, len(reduced_audio_data) / sample_rate, num=len(reduced_audio_data))\n",
    "    \n",
    "#     # Plot both waveforms\n",
    "#     plt.figure(figsize=(15, 6))\n",
    "    \n",
    "#     # Original audio waveform\n",
    "#     plt.subplot(2, 1, 1)\n",
    "#     plt.plot(time_axis_original, original_audio_data, color='blue')\n",
    "#     plt.title(\"Original Audio Waveform\")\n",
    "#     plt.xlabel(\"Time (seconds)\")\n",
    "#     plt.ylabel(\"Amplitude\")\n",
    "    \n",
    "#     # Noise-reduced audio waveform\n",
    "#     plt.subplot(2, 1, 2)\n",
    "#     plt.plot(time_axis_reduced, reduced_audio_data, color='green')\n",
    "#     plt.title(\"Noise-Reduced Audio Waveform\")\n",
    "#     plt.xlabel(\"Time (seconds)\")\n",
    "#     plt.ylabel(\"Amplitude\")\n",
    "    \n",
    "#     plt.tight_layout()\n",
    "\n",
    "#     # Save the plot to a BytesIO stream\n",
    "#     img_io = io.BytesIO()\n",
    "#     plt.savefig(img_io, format='png')\n",
    "#     img_io.seek(0)  # Move to the beginning of the stream\n",
    "#     plt.close()  # Close the plot to free resources\n",
    "\n",
    "#     return img_io\n"
   ]
  },
  {
   "cell_type": "markdown",
   "id": "8e2dbf81-3a09-481d-a7f3-0adaa77c671d",
   "metadata": {},
   "source": [
    "# Initiate Main Assistant System"
   ]
  },
  {
   "cell_type": "code",
   "execution_count": 6,
   "id": "71e37370-c452-491c-b5e7-89337ad5a253",
   "metadata": {},
   "outputs": [
    {
     "name": "stderr",
     "output_type": "stream",
     "text": [
      "ALSA lib pcm_dsnoop.c:618:(snd_pcm_dsnoop_open) unable to open slave\n",
      "ALSA lib pcm_dmix.c:1052:(snd_pcm_dmix_open) unable to open slave\n",
      "ALSA lib pcm.c:2495:(snd_pcm_open_noupdate) Unknown PCM cards.pcm.rear\n",
      "ALSA lib pcm.c:2495:(snd_pcm_open_noupdate) Unknown PCM cards.pcm.center_lfe\n",
      "ALSA lib pcm.c:2495:(snd_pcm_open_noupdate) Unknown PCM cards.pcm.side\n",
      "ALSA lib pcm_dmix.c:1052:(snd_pcm_dmix_open) unable to open slave\n",
      "ALSA lib pcm_dsnoop.c:618:(snd_pcm_dsnoop_open) unable to open slave\n",
      "ALSA lib pcm_dmix.c:1052:(snd_pcm_dmix_open) unable to open slave\n",
      "ALSA lib pcm.c:2495:(snd_pcm_open_noupdate) Unknown PCM cards.pcm.rear\n",
      "ALSA lib pcm.c:2495:(snd_pcm_open_noupdate) Unknown PCM cards.pcm.center_lfe\n",
      "ALSA lib pcm.c:2495:(snd_pcm_open_noupdate) Unknown PCM cards.pcm.side\n",
      "ALSA lib pcm_dmix.c:1052:(snd_pcm_dmix_open) unable to open slave\n"
     ]
    },
    {
     "name": "stdout",
     "output_type": "stream",
     "text": [
      "Listening...\n"
     ]
    },
    {
     "data": {
      "image/png": "[encoded data removed]",
      "text/plain": [
       "<Figure size 1500x600 with 2 Axes>"
      ]
     },
     "metadata": {},
     "output_type": "display_data"
    },
    {
     "name": "stdout",
     "output_type": "stream",
     "text": [
      "Recognized Text (Reduced): you can exit now\n"
     ]
    }
   ],
   "source": [
    "def main():\n",
    "    today_date = datetime.datetime.now()\n",
    "    speak(\"Hello, ma'am. Good \" + wishme() + \". I am your voice assistant.\")\n",
    "\n",
    "    while True:\n",
    "        speak(\"What can I do for you?\")\n",
    "        command = listen_command()\n",
    "        \n",
    "        if command is None:\n",
    "            continue\n",
    "        \n",
    "        if \"quit\" in command or \"exit\" in command:\n",
    "            speak(\"Goodbye mam. Have a nice day!\")\n",
    "            break\n",
    "        # Further command handling here...\n",
    "        elif \"time\" in command:\n",
    "            print(\"Today is \" + today_date.strftime(\"%d\") + \" of \" + today_date.strftime(\"%B\") + \" and it's currently \" + today_date.strftime(\"%I\") + \":\" + today_date.strftime(\"%M\") + \" \" + today_date.strftime(\"%p\"))\n",
    "            speak(\"Today is \" + today_date.strftime(\"%d\") + \" of \" + today_date.strftime(\"%B\") + \" and it's currently \" + today_date.strftime(\"%I\") + \":\" + today_date.strftime(\"%M\") + \" \" + today_date.strftime(\"%p\"))\n",
    "        \n",
    "        elif \"temperature\" in command:\n",
    "            print(\"Today's Temperature in Kadapa is \" + str(temp()) + \" degree celcius and with \" + str(des()))\n",
    "            speak(\"Today's Temperature in Kadapa is \" + str(temp()) + \" degree celcius and with \" + str(des()))\n",
    "        \n",
    "        elif \"information\" in command:\n",
    "            speak(\"You need information related to which topic?\")\n",
    "            topic = listen_command()\n",
    "            if topic:\n",
    "                print(f\"Searching {topic} in Wikipedia.\")\n",
    "                speak(f\"Searching {topic} in Wikipedia.\")\n",
    "                # Call your Wikipedia function or module here\n",
    "                assist = Infow()\n",
    "                assist.get_info(topic)\n",
    "                speak(\"Here is the information I found.\")\n",
    "                \n",
    "        elif \"play music\" in command or \"play video\" in command:\n",
    "            speak(\"You want me to play which video?\")\n",
    "            video = listen_command()\n",
    "            if video:\n",
    "                print(f\"Playing {video} on YouTube.\")\n",
    "                speak(f\"Playing {video} on YouTube.\")\n",
    "                # Call your YouTube playing function or module here\n",
    "                assist = Music()\n",
    "                assist.play(video)\n",
    "\n",
    "        elif \"news\" in command or \"read news\" in command:\n",
    "            speak(\"Sure, ma'am. Now I will read the news for you.\")\n",
    "            # Call your news-reading function or module here\n",
    "            arr = news()\n",
    "            for item in arr:\n",
    "                print(item)\n",
    "                speak(item)\n",
    "\n",
    "        elif \"fact\" in command or \"facts\" in command:\n",
    "            speak(\"Sure, ma'am.\")\n",
    "            fact = randfacts.getFact()\n",
    "            print(fact)\n",
    "            speak(\"Did you know that, \" + fact)\n",
    "\n",
    "        elif \"joke\" in command or \"jokes\" in command:\n",
    "            speak(\"Yeah, here is a joke for you, ma'am.\")\n",
    "            # Call your joke-telling function or module here\n",
    "            arr = joke()\n",
    "            for line in arr:\n",
    "                print(line)\n",
    "                speak(line)\n",
    "        else:\n",
    "            speak(\"I'm sorry, I didn't catch that. Could you please repeat?\")    \n",
    "\n",
    "# Run the main function\n",
    "if __name__ == \"__main__\":\n",
    "    main()\n"
   ]
  },
  {
   "cell_type": "code",
   "execution_count": null,
   "id": "ecbac5b8-9f01-4740-a204-889ffed52033",
   "metadata": {},
   "outputs": [],
   "source": []
  }
 ],
 "metadata": {
  "kernelspec": {
   "display_name": "Python 3 (ipykernel)",
   "language": "python",
   "name": "python3"
  },
  "language_info": {
   "codemirror_mode": {
    "name": "ipython",
    "version": 3
   },
   "file_extension": ".py",
   "mimetype": "text/x-python",
   "name": "python",
   "nbconvert_exporter": "python",
   "pygments_lexer": "ipython3",
   "version": "3.11.7"
  }
 },
 "nbformat": 4,
 "nbformat_minor": 5
}
